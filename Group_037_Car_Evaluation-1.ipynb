{
 "cells": [
  {
   "cell_type": "markdown",
   "metadata": {
    "id": "F_VNC4HiBuvF"
   },
   "source": [
    ">**Authour : Sharath P S**\n",
    ">> **Dataset used**\n",
    ">>>Car-Evaluvation : https://archive.ics.uci.edu/ml/machine-learning-databases/car/ "
   ]
  },
  {
   "cell_type": "markdown",
   "metadata": {
    "id": "zZo4ZcWDsq_v"
   },
   "source": [
    "### **0. Business Requirement**\n",
    "> **Purpose**\n",
    "\n",
    ">>The evaluation dataset will be used to make a convenient decision based on multiple factors that will be affecting a successful purchase of a car. The Buyers decision will be dependent on multiple factors such as maintenance, price, safety, comfort, etc… \n",
    "\n",
    ">>Model basically revolves around decision making and identifying contributing factors to decide between a good acceptable car from the unaccepted values from the target value.\n",
    "\n",
    "> **Target Customers**\n",
    "\n",
    ">>In this analysis, we will process the data, explore the variable relationship between the attributes and building a model with more feasible parameter to make the right decision with the given params.\n",
    "\n",
    "> **Data Attributes**\n",
    ">>Dataset is used to classify the car acceptability into classes: unacceptable, acceptable, good and very good.\n",
    ">>Predict and display the class label of a car with following attributes : buying, main, doors, persons, lug_boot, safety as [vhigh,low,4,more,small,med].\n",
    ">>High level understanding of the given data for business analysis\n",
    ">>Buying (vhigh, high, med, low)\n",
    ">>Maintenance (vhigh, high, med, low)\n",
    ">>Doors (2, 3, 4)\n",
    ">>Persons (2, 4, more)\n",
    ">>Luggage boot (small, med, big)\n",
    ">>Safety (low, med, high)\n",
    ">>Output Variable:\n",
    ">>Class (unacc, acc, good, vgood)\n",
    ">>Model will be built using these attributes to analyse the accuracy of Class factor from customers.\n",
    " \n",
    ">**Methodology**\n",
    ">>Data Preprocessing – As dataset is obtained from https://archive.ics.uci.edu/ml/machine-learning-databases/car  the dataset has to be preprocessed for missing values and NaN values as we will be dealing with the categorical data to have a better accuracy of analysis. Along with handling above mentioned scenarios categorical entries should be converted to numerical values as most of ML models works more accurately with numerical values and few feature engineering techniques has to be applied Ex: OneHotEncoding, Label Encoding, etc…\n",
    "\n",
    ">**Data Exploration**\n",
    ">>Visual exploration of the data is being pre-processed. The exploration could be Univariate, Bi-variate and Multivariate. Major conclusions could be drawn using these explorations.\n",
    " \n",
    ">**Train-Test data split**\n",
    ">>Pre=process dataset has to be divided into train and test data in-order to build the model. The splitting our dataset could be decided based on the objective that we are aiming to achieve. Be mindful enough not to attain underfitting or overfitting model.\n",
    " \n",
    ">**Building model**\n",
    ">>Based on the outcome that the target customer is expecting, a efficient model has be selected and implemented. It could be classification model, Decision tree, KNN, Regression model, etc…\n",
    " \n",
    ">**Risk Involved**\n",
    ">>If an outdated data is provided in the dataset, which out result in invalid prediction and which out potentially lead to customer dissatisfaction. \n",
    ">>Model attaining overfitting scenario, training data fit the model so perfectly that there will not be any scenario for the algorithm to learn from any. Which would be failure while testing the real time data.\n",
    ">>Having to revisit the model post production deployment to tweak the model based on customer’s updated interest or requirement in a car.\n",
    " \n",
    ">**Result**\n",
    ">>Comparison between the models that are built using pre-processed data and the model with high accuracy would be considered for any future decision making objective.\n"
   ]
  },
  {
   "cell_type": "markdown",
   "metadata": {
    "id": "88PWQ8ZAD8kZ"
   },
   "source": [
    "# **1.   Import Libraries/Dataset**"
   ]
  },
  {
   "cell_type": "code",
   "execution_count": null,
   "metadata": {
    "id": "yBbzAM0I_Lua"
   },
   "outputs": [],
   "source": [
    "import warnings; warnings.simplefilter('ignore')"
   ]
  },
  {
   "cell_type": "code",
   "execution_count": null,
   "metadata": {
    "id": "EjlPQuoJw8tQ"
   },
   "outputs": [],
   "source": [
    "##Import Libraries\n",
    "import pandas as pd\n",
    "import numpy as np\n",
    "import matplotlib.pyplot as plt\n",
    "import seaborn as sb\n",
    "from sklearn.model_selection import train_test_split\n",
    "from statsmodels.stats.outliers_influence import variance_inflation_factor\n",
    "from sklearn.feature_selection import RFE\n",
    "from sklearn.model_selection import GridSearchCV\n",
    "from sklearn.neighbors import KNeighborsClassifier\n",
    "from sklearn.tree import DecisionTreeClassifier\n",
    "from imblearn.over_sampling import RandomOverSampler\n",
    "from sklearn.linear_model import LogisticRegression\n",
    "from sklearn.metrics import accuracy_score, f1_score, precision_score, recall_score, classification_report, confusion_matrix\n",
    "from sklearn.ensemble import RandomForestClassifier\n",
    "from sklearn.naive_bayes import CategoricalNB"
   ]
  },
  {
   "cell_type": "code",
   "execution_count": null,
   "metadata": {
    "id": "TRKY5FWbzEqh"
   },
   "outputs": [],
   "source": [
    "colnames = [\"buying\",\"maint\",\"doors\",\"persons\",\"lug_boot\",\"safety\",\"Target\"]\n",
    "raw_data = pd.read_csv('https://archive.ics.uci.edu/ml/machine-learning-databases/car/car.data', header=None,names=colnames)"
   ]
  },
  {
   "cell_type": "markdown",
   "metadata": {
    "id": "lGcmPiIIEWW5"
   },
   "source": [
    "\n",
    "\n",
    "# **2.   Data Visualization and Exploration**\n",
    "\n"
   ]
  },
  {
   "cell_type": "code",
   "execution_count": null,
   "metadata": {
    "colab": {
     "base_uri": "https://localhost:8080/",
     "height": 206
    },
    "id": "bt038CczzVos",
    "outputId": "b4162356-72ed-44e4-8a8a-3b8b83efa6a7"
   },
   "outputs": [
    {
     "data": {
      "text/html": [
       "<div>\n",
       "<style scoped>\n",
       "    .dataframe tbody tr th:only-of-type {\n",
       "        vertical-align: middle;\n",
       "    }\n",
       "\n",
       "    .dataframe tbody tr th {\n",
       "        vertical-align: top;\n",
       "    }\n",
       "\n",
       "    .dataframe thead th {\n",
       "        text-align: right;\n",
       "    }\n",
       "</style>\n",
       "<table border=\"1\" class=\"dataframe\">\n",
       "  <thead>\n",
       "    <tr style=\"text-align: right;\">\n",
       "      <th></th>\n",
       "      <th>buying</th>\n",
       "      <th>maint</th>\n",
       "      <th>doors</th>\n",
       "      <th>persons</th>\n",
       "      <th>lug_boot</th>\n",
       "      <th>safety</th>\n",
       "      <th>Target</th>\n",
       "    </tr>\n",
       "  </thead>\n",
       "  <tbody>\n",
       "    <tr>\n",
       "      <th>0</th>\n",
       "      <td>vhigh</td>\n",
       "      <td>vhigh</td>\n",
       "      <td>2</td>\n",
       "      <td>2</td>\n",
       "      <td>small</td>\n",
       "      <td>low</td>\n",
       "      <td>unacc</td>\n",
       "    </tr>\n",
       "    <tr>\n",
       "      <th>1</th>\n",
       "      <td>vhigh</td>\n",
       "      <td>vhigh</td>\n",
       "      <td>2</td>\n",
       "      <td>2</td>\n",
       "      <td>small</td>\n",
       "      <td>med</td>\n",
       "      <td>unacc</td>\n",
       "    </tr>\n",
       "    <tr>\n",
       "      <th>2</th>\n",
       "      <td>vhigh</td>\n",
       "      <td>vhigh</td>\n",
       "      <td>2</td>\n",
       "      <td>2</td>\n",
       "      <td>small</td>\n",
       "      <td>high</td>\n",
       "      <td>unacc</td>\n",
       "    </tr>\n",
       "    <tr>\n",
       "      <th>3</th>\n",
       "      <td>vhigh</td>\n",
       "      <td>vhigh</td>\n",
       "      <td>2</td>\n",
       "      <td>2</td>\n",
       "      <td>med</td>\n",
       "      <td>low</td>\n",
       "      <td>unacc</td>\n",
       "    </tr>\n",
       "    <tr>\n",
       "      <th>4</th>\n",
       "      <td>vhigh</td>\n",
       "      <td>vhigh</td>\n",
       "      <td>2</td>\n",
       "      <td>2</td>\n",
       "      <td>med</td>\n",
       "      <td>med</td>\n",
       "      <td>unacc</td>\n",
       "    </tr>\n",
       "  </tbody>\n",
       "</table>\n",
       "</div>"
      ],
      "text/plain": [
       "  buying  maint doors persons lug_boot safety Target\n",
       "0  vhigh  vhigh     2       2    small    low  unacc\n",
       "1  vhigh  vhigh     2       2    small    med  unacc\n",
       "2  vhigh  vhigh     2       2    small   high  unacc\n",
       "3  vhigh  vhigh     2       2      med    low  unacc\n",
       "4  vhigh  vhigh     2       2      med    med  unacc"
      ]
     },
     "execution_count": 4,
     "metadata": {},
     "output_type": "execute_result"
    }
   ],
   "source": [
    "raw_data.head(5)"
   ]
  },
  {
   "cell_type": "code",
   "execution_count": null,
   "metadata": {
    "colab": {
     "base_uri": "https://localhost:8080/"
    },
    "id": "llP-tKk22m19",
    "outputId": "d72229f5-733f-41f2-9776-c29e60a0941e"
   },
   "outputs": [
    {
     "data": {
      "text/plain": [
       "(1728, 7)"
      ]
     },
     "execution_count": 5,
     "metadata": {},
     "output_type": "execute_result"
    }
   ],
   "source": [
    "raw_data.shape"
   ]
  },
  {
   "cell_type": "markdown",
   "metadata": {
    "id": "sBrailaFEu1R"
   },
   "source": [
    "Check for the Null/Na/Missing values"
   ]
  },
  {
   "cell_type": "code",
   "execution_count": null,
   "metadata": {
    "colab": {
     "base_uri": "https://localhost:8080/"
    },
    "id": "cs4rT3frzgXq",
    "outputId": "2a2c8dc3-a024-4757-8f06-ec82adcc39b6"
   },
   "outputs": [
    {
     "data": {
      "text/plain": [
       "buying      0.0\n",
       "maint       0.0\n",
       "doors       0.0\n",
       "persons     0.0\n",
       "lug_boot    0.0\n",
       "safety      0.0\n",
       "Target      0.0\n",
       "dtype: float64"
      ]
     },
     "execution_count": 6,
     "metadata": {},
     "output_type": "execute_result"
    }
   ],
   "source": [
    "100*(raw_data.isna().sum()/raw_data.shape[0])"
   ]
  },
  {
   "cell_type": "markdown",
   "metadata": {
    "id": "MM58i9R2Exlv"
   },
   "source": [
    "Understand the data set values/types"
   ]
  },
  {
   "cell_type": "code",
   "execution_count": null,
   "metadata": {
    "colab": {
     "base_uri": "https://localhost:8080/"
    },
    "id": "UtaBDJUV0oT0",
    "outputId": "16a00d6b-eb96-4122-bcf8-914b1df1bcee"
   },
   "outputs": [
    {
     "name": "stdout",
     "output_type": "stream",
     "text": [
      "<class 'pandas.core.frame.DataFrame'>\n",
      "RangeIndex: 1728 entries, 0 to 1727\n",
      "Data columns (total 7 columns):\n",
      " #   Column    Non-Null Count  Dtype \n",
      "---  ------    --------------  ----- \n",
      " 0   buying    1728 non-null   object\n",
      " 1   maint     1728 non-null   object\n",
      " 2   doors     1728 non-null   object\n",
      " 3   persons   1728 non-null   object\n",
      " 4   lug_boot  1728 non-null   object\n",
      " 5   safety    1728 non-null   object\n",
      " 6   Target    1728 non-null   object\n",
      "dtypes: object(7)\n",
      "memory usage: 94.6+ KB\n"
     ]
    }
   ],
   "source": [
    "raw_data.info()"
   ]
  },
  {
   "cell_type": "markdown",
   "metadata": {
    "id": "UxiDDDEME5Z1"
   },
   "source": [
    "Check the descriptive statistics of the raw data to get abasic understnading of data (This might require data type conversions and other transformations, which we will address later and again will check these statistics)"
   ]
  },
  {
   "cell_type": "code",
   "execution_count": null,
   "metadata": {
    "colab": {
     "base_uri": "https://localhost:8080/",
     "height": 175
    },
    "id": "gHMde3fs0_Fd",
    "outputId": "c3dd901a-d37a-4d86-dffb-720dfe94b572"
   },
   "outputs": [
    {
     "data": {
      "text/html": [
       "<div>\n",
       "<style scoped>\n",
       "    .dataframe tbody tr th:only-of-type {\n",
       "        vertical-align: middle;\n",
       "    }\n",
       "\n",
       "    .dataframe tbody tr th {\n",
       "        vertical-align: top;\n",
       "    }\n",
       "\n",
       "    .dataframe thead th {\n",
       "        text-align: right;\n",
       "    }\n",
       "</style>\n",
       "<table border=\"1\" class=\"dataframe\">\n",
       "  <thead>\n",
       "    <tr style=\"text-align: right;\">\n",
       "      <th></th>\n",
       "      <th>buying</th>\n",
       "      <th>maint</th>\n",
       "      <th>doors</th>\n",
       "      <th>persons</th>\n",
       "      <th>lug_boot</th>\n",
       "      <th>safety</th>\n",
       "      <th>Target</th>\n",
       "    </tr>\n",
       "  </thead>\n",
       "  <tbody>\n",
       "    <tr>\n",
       "      <th>count</th>\n",
       "      <td>1728</td>\n",
       "      <td>1728</td>\n",
       "      <td>1728</td>\n",
       "      <td>1728</td>\n",
       "      <td>1728</td>\n",
       "      <td>1728</td>\n",
       "      <td>1728</td>\n",
       "    </tr>\n",
       "    <tr>\n",
       "      <th>unique</th>\n",
       "      <td>4</td>\n",
       "      <td>4</td>\n",
       "      <td>4</td>\n",
       "      <td>3</td>\n",
       "      <td>3</td>\n",
       "      <td>3</td>\n",
       "      <td>4</td>\n",
       "    </tr>\n",
       "    <tr>\n",
       "      <th>top</th>\n",
       "      <td>med</td>\n",
       "      <td>med</td>\n",
       "      <td>4</td>\n",
       "      <td>4</td>\n",
       "      <td>med</td>\n",
       "      <td>med</td>\n",
       "      <td>unacc</td>\n",
       "    </tr>\n",
       "    <tr>\n",
       "      <th>freq</th>\n",
       "      <td>432</td>\n",
       "      <td>432</td>\n",
       "      <td>432</td>\n",
       "      <td>576</td>\n",
       "      <td>576</td>\n",
       "      <td>576</td>\n",
       "      <td>1210</td>\n",
       "    </tr>\n",
       "  </tbody>\n",
       "</table>\n",
       "</div>"
      ],
      "text/plain": [
       "       buying maint doors persons lug_boot safety Target\n",
       "count    1728  1728  1728    1728     1728   1728   1728\n",
       "unique      4     4     4       3        3      3      4\n",
       "top       med   med     4       4      med    med  unacc\n",
       "freq      432   432   432     576      576    576   1210"
      ]
     },
     "execution_count": 8,
     "metadata": {},
     "output_type": "execute_result"
    }
   ],
   "source": [
    "raw_data.describe()"
   ]
  },
  {
   "cell_type": "markdown",
   "metadata": {
    "id": "wMCmFBNZ-nRT"
   },
   "source": [
    "## **2.1 Visualize the Univariate distribution of data**"
   ]
  },
  {
   "cell_type": "code",
   "execution_count": null,
   "metadata": {
    "colab": {
     "base_uri": "https://localhost:8080/",
     "height": 423
    },
    "id": "fD1SCFBT2BYF",
    "outputId": "8a06749d-dc90-4740-f936-39af823ea1a5"
   },
   "outputs": [
    {
     "name": "stderr",
     "output_type": "stream",
     "text": [
      "No handles with labels found to put in legend.\n"
     ]
    },
    {
     "data": {
      "image/png": "[encoded data removed]",
      "text/plain": [
       "<Figure size 1080x432 with 1 Axes>"
      ]
     },
     "metadata": {
      "needs_background": "light"
     },
     "output_type": "display_data"
    }
   ],
   "source": [
    "size = raw_data['Target'].value_counts()\n",
    "plt.rcParams['figure.figsize'] = (15, 6)\n",
    "sb.countplot(raw_data['Target'])\n",
    "plt.title('Bar plot to check the Target value distribution', fontsize = 15)\n",
    "plt.legend()\n",
    "plt.show()"
   ]
  },
  {
   "cell_type": "markdown",
   "metadata": {
    "id": "vHuNL7LcFyRd"
   },
   "source": [
    "Visualize the other features' distribution"
   ]
  },
  {
   "cell_type": "code",
   "execution_count": null,
   "metadata": {
    "colab": {
     "base_uri": "https://localhost:8080/",
     "height": 772
    },
    "id": "Zhe5jhAm_rwg",
    "outputId": "c1976724-f187-406e-e339-191a0d60cf4a"
   },
   "outputs": [
    {
     "data": {
      "text/plain": [
       "Text(0.5, 1.0, 'Safety variable distribution')"
      ]
     },
     "execution_count": 10,
     "metadata": {},
     "output_type": "execute_result"
    },
    {
     "data": {
      "image/png": "[encoded data removed]",
      "text/plain": [
       "<Figure size 2160x1440 with 6 Axes>"
      ]
     },
     "metadata": {
      "needs_background": "light"
     },
     "output_type": "display_data"
    }
   ],
   "source": [
    "plt.rcParams['figure.figsize'] = (30, 20)\n",
    "fig, ax = plt.subplots(2, 3)\n",
    "\n",
    "sb.countplot(raw_data['buying'],ax=ax[0,0]).set_title(\"Buying Price variable distribution\")\n",
    "sb.countplot(raw_data['maint'],ax=ax[0,1]).set_title(\"Maintenance Price variable distribution\")\n",
    "sb.countplot(raw_data['doors'],ax=ax[0,2]).set_title(\"Doors count variable distribution\")\n",
    "sb.countplot(raw_data['persons'],ax=ax[1,0]).set_title(\"Persons carry count variable distribution\")\n",
    "sb.countplot(raw_data['lug_boot'],ax=ax[1,1]).set_title(\"Luggage boot size variable distribution\")\n",
    "sb.countplot(raw_data['safety'],ax=ax[1,2]).set_title(\"Safety variable distribution\")"
   ]
  },
  {
   "cell_type": "markdown",
   "metadata": {
    "id": "LxqWyy76GV9r"
   },
   "source": [
    "## **2.2 Visualize the Bivariate analysis**\n",
    "\n",
    "Check the distribution of Dependent feature distribution with in each Independent features."
   ]
  },
  {
   "cell_type": "code",
   "execution_count": null,
   "metadata": {
    "colab": {
     "base_uri": "https://localhost:8080/",
     "height": 773
    },
    "id": "4oDHQMZi_uqp",
    "outputId": "599d6435-94ac-4ca2-c701-f5e39b6b65df"
   },
   "outputs": [
    {
     "data": {
      "image/png": "[encoded data removed]",
      "text/plain": [
       "<Figure size 2160x1440 with 6 Axes>"
      ]
     },
     "metadata": {
      "needs_background": "light"
     },
     "output_type": "display_data"
    }
   ],
   "source": [
    "plt.rcParams['figure.figsize'] = (30, 20)\n",
    "fig, ax = plt.subplots(2, 3)\n",
    "\n",
    "mc = pd.crosstab(raw_data['buying'], raw_data['Target'])\n",
    "mc.div(mc.sum(1).astype(float), axis = 0).plot(kind = 'bar', stacked = True, ax=ax[0,0], title='Compare the Target value distribution given the buying cost')\n",
    "\n",
    "mc = pd.crosstab(raw_data['maint'], raw_data['Target'])\n",
    "mc.div(mc.sum(1).astype(float), axis = 0).plot(kind = 'bar', stacked = True, ax=ax[0,1], title='Compare the Target value distribution given the maint cost')\n",
    "\n",
    "mc = pd.crosstab(raw_data['doors'], raw_data['Target'])\n",
    "mc.div(mc.sum(1).astype(float), axis = 0).plot(kind = 'bar', stacked = True,ax=ax[0,2], title='Compare the Target value distribution given the doors count')\n",
    "\n",
    "mc = pd.crosstab(raw_data['persons'], raw_data['Target'])\n",
    "mc.div(mc.sum(1).astype(float), axis = 0).plot(kind = 'bar', stacked = True,ax=ax[1,0], title='Compare the Target value distribution given the persons count' )\n",
    "\n",
    "mc = pd.crosstab(raw_data['lug_boot'], raw_data['Target'])\n",
    "mc.div(mc.sum(1).astype(float), axis = 0).plot(kind = 'bar', stacked = True,ax=ax[1,1], title='Compare the Target value distribution given the lug_boot value' )\n",
    "\n",
    "mc = pd.crosstab(raw_data['safety'], raw_data['Target'])\n",
    "mc.div(mc.sum(1).astype(float), axis = 0).plot(kind = 'bar', stacked = True,ax=ax[1,2], title='Compare the Target value distribution given the safety value')\n",
    "\n",
    "plt.legend()\n",
    "plt.show()"
   ]
  },
  {
   "cell_type": "markdown",
   "metadata": {
    "id": "vlqcu1iMG4j9"
   },
   "source": [
    "## **2.3 EDA conclusion**\n",
    "\n",
    "\n",
    "\n",
    "*   All the dependent features has uniformly distributed values.\n",
    "*   Given dataset *target* class is having **imbalance distribution** with below % of values for each class.\n",
    "\n",
    "      **unacc:**    70.023148%\n",
    "\n",
    "      **acc:**      22.222222%\n",
    "\n",
    "      **good:**      3.993056%\n",
    "\n",
    "      **vgood:**     3.761574%\n",
    "\n",
    "*   As the Saftey of the car increases the acceptability also increases, if the car is having low saftey then there is a high chance of getting **unaccepted** \n",
    "\n",
    "* As the car cost and maintenance cost goes high there is a increasing chance of not getting **Good** or **Very Good** acceptability\n",
    "\n",
    "* People are looking for the cars with more **capacity in terms of persons to carry**. Small cars having capacity of carrying 2 people are mostly not accepted.\n",
    "\n",
    "* We dont see any biased selection when it comes to number of doors in the car. People looks to be equally likely open for any **number of doors**\n",
    "\n",
    "* Our Target/Dependent feature has a 4 categorical values. Sowe need to build a **Classification Model** toindentify the right value for the Dependent Variable.\n",
    "\n"
   ]
  },
  {
   "cell_type": "markdown",
   "metadata": {
    "id": "CnkEX7pC9g8z"
   },
   "source": [
    "## **2.4 Data Quality analysis**\n",
    "### **2.4.1 Outlier analysis**\n",
    "\n",
    "From the below charts we can say that there are **no outliers** are present in the dataset and features are **uniformly** distributed."
   ]
  },
  {
   "cell_type": "code",
   "execution_count": null,
   "metadata": {
    "colab": {
     "base_uri": "https://localhost:8080/",
     "height": 762
    },
    "id": "cTNhrZln-EWE",
    "outputId": "e97be67f-6140-4ff8-8d07-952c51c6212d"
   },
   "outputs": [
    {
     "data": {
      "text/plain": [
       "<matplotlib.axes._subplots.AxesSubplot at 0x7fd3061952d0>"
      ]
     },
     "execution_count": 12,
     "metadata": {},
     "output_type": "execute_result"
    },
    {
     "data": {
      "image/png": "[encoded data removed]",
      "text/plain": [
       "<Figure size 2160x1440 with 6 Axes>"
      ]
     },
     "metadata": {
      "needs_background": "light"
     },
     "output_type": "display_data"
    }
   ],
   "source": [
    "plt.rcParams['figure.figsize'] = (30, 20)\n",
    "fig, ax = plt.subplots(2, 3)\n",
    "sb.histplot(raw_data['buying'], ax=ax[0,0])\n",
    "sb.histplot(raw_data['maint'], ax=ax[0,1], color='g')\n",
    "sb.histplot(raw_data['doors'], ax=ax[0,2], color='r')\n",
    "sb.histplot(raw_data['persons'], ax=ax[1,0],color='m')\n",
    "sb.histplot(raw_data['lug_boot'], ax=ax[1,1],color='y')\n",
    "sb.histplot(raw_data['safety'], ax=ax[1,2],color='c')\n"
   ]
  },
  {
   "cell_type": "markdown",
   "metadata": {
    "id": "uxiOLncoLsxy"
   },
   "source": [
    "# **3. Data Pre-processing and cleaning**\n",
    "\n",
    "* Convert the categorical values from each features into numerical **ordinal** values. For the i will be going with simple ***replace*** method rather than using OrdinalEncoder.\n",
    "\n",
    "* Given dataset is not having any missing values (we have already checked this above) so there is no missing value treatment required.\n",
    "\n",
    "* Most of the features has categorical/ordinal values we do not required any Standardization. We may required to create dummy features for some of the categorical features. We will decide on this later once we have base model and then decide wether making dummy will improve the model performance.\n",
    "\n",
    "* **Correlational Analysis:** I have plotted the correlational plot. We can see Safety and Capacity to carry # persons have comparatively *higher correlation* with the dependent feature which we have inferred from *EDA* step also.\n",
    "\n",
    "    We do not see any correlation between the independent features."
   ]
  },
  {
   "cell_type": "code",
   "execution_count": null,
   "metadata": {
    "id": "CFYRI63L1wtT"
   },
   "outputs": [],
   "source": [
    "raw_data['safety'].replace(('low', 'med', 'high'), (0, 1, 2), inplace = True)\n",
    "raw_data['buying'].replace(('low', 'med', 'high', 'vhigh'), (0, 1, 2, 3), inplace = True)\n",
    "raw_data['Target'].replace(('unacc', 'acc', 'good', 'vgood'), (0, 1, 2, 3), inplace = True)\n",
    "raw_data['lug_boot'].replace(('small', 'med', 'big'), (0, 1, 2), inplace = True)\n",
    "raw_data['maint'].replace(('low', 'med', 'high', 'vhigh'), (0, 1, 2, 3), inplace = True)\n",
    "raw_data['doors'].replace('5more', 5, inplace = True)\n",
    "raw_data['persons'].replace('more', 5, inplace = True)\n",
    "raw_data['persons'] = pd.to_numeric(raw_data['persons'])\n",
    "raw_data['doors'] = pd.to_numeric(raw_data['doors'])"
   ]
  },
  {
   "cell_type": "code",
   "execution_count": null,
   "metadata": {
    "colab": {
     "base_uri": "https://localhost:8080/"
    },
    "id": "RVFLEYIdFpnq",
    "outputId": "ced2582a-0d12-4211-8865-dfefa37836c3"
   },
   "outputs": [
    {
     "data": {
      "text/plain": [
       "buying      int64\n",
       "maint       int64\n",
       "doors       int64\n",
       "persons     int64\n",
       "lug_boot    int64\n",
       "safety      int64\n",
       "Target      int64\n",
       "dtype: object"
      ]
     },
     "execution_count": 14,
     "metadata": {},
     "output_type": "execute_result"
    }
   ],
   "source": [
    "raw_data.dtypes"
   ]
  },
  {
   "cell_type": "code",
   "execution_count": null,
   "metadata": {
    "colab": {
     "base_uri": "https://localhost:8080/",
     "height": 488
    },
    "id": "NaS9T1Af3o_Z",
    "outputId": "30544aa1-be19-4451-ac4a-e92993f6c9d5"
   },
   "outputs": [
    {
     "data": {
      "image/png": "[encoded data removed]",
      "text/plain": [
       "<Figure size 864x576 with 2 Axes>"
      ]
     },
     "metadata": {
      "needs_background": "light"
     },
     "output_type": "display_data"
    }
   ],
   "source": [
    "plt.rcParams['figure.figsize'] = (12, 8)\n",
    "sb.heatmap(raw_data.corr(), annot=True)\n",
    "plt.show()"
   ]
  },
  {
   "cell_type": "code",
   "execution_count": null,
   "metadata": {
    "colab": {
     "base_uri": "https://localhost:8080/",
     "height": 300
    },
    "id": "ZKu-HAs_GE7T",
    "outputId": "c4fa5ddc-2b3b-4db4-c24b-617474e8e60b"
   },
   "outputs": [
    {
     "data": {
      "text/html": [
       "<div>\n",
       "<style scoped>\n",
       "    .dataframe tbody tr th:only-of-type {\n",
       "        vertical-align: middle;\n",
       "    }\n",
       "\n",
       "    .dataframe tbody tr th {\n",
       "        vertical-align: top;\n",
       "    }\n",
       "\n",
       "    .dataframe thead th {\n",
       "        text-align: right;\n",
       "    }\n",
       "</style>\n",
       "<table border=\"1\" class=\"dataframe\">\n",
       "  <thead>\n",
       "    <tr style=\"text-align: right;\">\n",
       "      <th></th>\n",
       "      <th>buying</th>\n",
       "      <th>maint</th>\n",
       "      <th>doors</th>\n",
       "      <th>persons</th>\n",
       "      <th>lug_boot</th>\n",
       "      <th>safety</th>\n",
       "      <th>Target</th>\n",
       "    </tr>\n",
       "  </thead>\n",
       "  <tbody>\n",
       "    <tr>\n",
       "      <th>count</th>\n",
       "      <td>1728.000000</td>\n",
       "      <td>1728.000000</td>\n",
       "      <td>1728.000000</td>\n",
       "      <td>1728.000000</td>\n",
       "      <td>1728.000000</td>\n",
       "      <td>1728.000000</td>\n",
       "      <td>1728.000000</td>\n",
       "    </tr>\n",
       "    <tr>\n",
       "      <th>mean</th>\n",
       "      <td>1.500000</td>\n",
       "      <td>1.500000</td>\n",
       "      <td>3.500000</td>\n",
       "      <td>3.666667</td>\n",
       "      <td>1.000000</td>\n",
       "      <td>1.000000</td>\n",
       "      <td>0.414931</td>\n",
       "    </tr>\n",
       "    <tr>\n",
       "      <th>std</th>\n",
       "      <td>1.118358</td>\n",
       "      <td>1.118358</td>\n",
       "      <td>1.118358</td>\n",
       "      <td>1.247580</td>\n",
       "      <td>0.816733</td>\n",
       "      <td>0.816733</td>\n",
       "      <td>0.740700</td>\n",
       "    </tr>\n",
       "    <tr>\n",
       "      <th>min</th>\n",
       "      <td>0.000000</td>\n",
       "      <td>0.000000</td>\n",
       "      <td>2.000000</td>\n",
       "      <td>2.000000</td>\n",
       "      <td>0.000000</td>\n",
       "      <td>0.000000</td>\n",
       "      <td>0.000000</td>\n",
       "    </tr>\n",
       "    <tr>\n",
       "      <th>25%</th>\n",
       "      <td>0.750000</td>\n",
       "      <td>0.750000</td>\n",
       "      <td>2.750000</td>\n",
       "      <td>2.000000</td>\n",
       "      <td>0.000000</td>\n",
       "      <td>0.000000</td>\n",
       "      <td>0.000000</td>\n",
       "    </tr>\n",
       "    <tr>\n",
       "      <th>50%</th>\n",
       "      <td>1.500000</td>\n",
       "      <td>1.500000</td>\n",
       "      <td>3.500000</td>\n",
       "      <td>4.000000</td>\n",
       "      <td>1.000000</td>\n",
       "      <td>1.000000</td>\n",
       "      <td>0.000000</td>\n",
       "    </tr>\n",
       "    <tr>\n",
       "      <th>75%</th>\n",
       "      <td>2.250000</td>\n",
       "      <td>2.250000</td>\n",
       "      <td>4.250000</td>\n",
       "      <td>5.000000</td>\n",
       "      <td>2.000000</td>\n",
       "      <td>2.000000</td>\n",
       "      <td>1.000000</td>\n",
       "    </tr>\n",
       "    <tr>\n",
       "      <th>max</th>\n",
       "      <td>3.000000</td>\n",
       "      <td>3.000000</td>\n",
       "      <td>5.000000</td>\n",
       "      <td>5.000000</td>\n",
       "      <td>2.000000</td>\n",
       "      <td>2.000000</td>\n",
       "      <td>3.000000</td>\n",
       "    </tr>\n",
       "  </tbody>\n",
       "</table>\n",
       "</div>"
      ],
      "text/plain": [
       "            buying        maint  ...       safety       Target\n",
       "count  1728.000000  1728.000000  ...  1728.000000  1728.000000\n",
       "mean      1.500000     1.500000  ...     1.000000     0.414931\n",
       "std       1.118358     1.118358  ...     0.816733     0.740700\n",
       "min       0.000000     0.000000  ...     0.000000     0.000000\n",
       "25%       0.750000     0.750000  ...     0.000000     0.000000\n",
       "50%       1.500000     1.500000  ...     1.000000     0.000000\n",
       "75%       2.250000     2.250000  ...     2.000000     1.000000\n",
       "max       3.000000     3.000000  ...     2.000000     3.000000\n",
       "\n",
       "[8 rows x 7 columns]"
      ]
     },
     "execution_count": 16,
     "metadata": {},
     "output_type": "execute_result"
    }
   ],
   "source": [
    "raw_data.describe()"
   ]
  },
  {
   "cell_type": "markdown",
   "metadata": {
    "id": "J9uPEveJPeYG"
   },
   "source": [
    "# **4. Data Preparation**"
   ]
  },
  {
   "cell_type": "markdown",
   "metadata": {
    "id": "aLbN3pNtDyzF"
   },
   "source": [
    "  ## **4.1 Troubleshooting class imbalance**\n",
    "  Since the target/Dependent feature class is highly imbalenced using **RandomOverSampler** let us over-sample the minority class(es) by picking samples at random with replacement."
   ]
  },
  {
   "cell_type": "code",
   "execution_count": null,
   "metadata": {
    "id": "0SkR-ZzBHT9T"
   },
   "outputs": [],
   "source": [
    "#raw_data.drop('persons', inplace=True, axis=1)"
   ]
  },
  {
   "cell_type": "code",
   "execution_count": null,
   "metadata": {
    "colab": {
     "base_uri": "https://localhost:8080/"
    },
    "id": "sXxBnEch9sfM",
    "outputId": "7d27ffde-a90c-4286-8c85-5e3e33743150"
   },
   "outputs": [
    {
     "name": "stdout",
     "output_type": "stream",
     "text": [
      "Shape of x:  (1728, 6)\n",
      "Shape of y:  (1728,)\n"
     ]
    }
   ],
   "source": [
    "x = raw_data.iloc[:,:len(raw_data.columns)-1]\n",
    "y = raw_data.Target\n",
    "print(\"Shape of x: \", x.shape)\n",
    "print(\"Shape of y: \", y.shape)"
   ]
  },
  {
   "cell_type": "code",
   "execution_count": null,
   "metadata": {
    "id": "LioKtjzGRrT3"
   },
   "outputs": [],
   "source": [
    "ros = RandomOverSampler(random_state=100)\n",
    "x, y = ros.fit_resample(x, y)"
   ]
  },
  {
   "cell_type": "code",
   "execution_count": null,
   "metadata": {
    "colab": {
     "base_uri": "https://localhost:8080/"
    },
    "id": "FvE2ovSB-Nrs",
    "outputId": "e34cbcc7-a2c7-4bed-ae0b-c542504716fd"
   },
   "outputs": [
    {
     "name": "stdout",
     "output_type": "stream",
     "text": [
      "Shape of x_train:  (3630, 6)\n",
      "Shape of y_train:  (3630,)\n",
      "shape of x_test:  (1210, 6)\n",
      "shape of y_test:  (1210,)\n"
     ]
    }
   ],
   "source": [
    "x_train, x_test, y_train, y_test = train_test_split(x, y, test_size = 0.25, random_state = 100)\n",
    "\n",
    "print(\"Shape of x_train: \", x_train.shape)\n",
    "print(\"Shape of y_train: \", y_train.shape)\n",
    "print(\"shape of x_test: \", x_test.shape)\n",
    "print(\"shape of y_test: \", y_test.shape)"
   ]
  },
  {
   "cell_type": "code",
   "execution_count": null,
   "metadata": {
    "colab": {
     "base_uri": "https://localhost:8080/"
    },
    "id": "oeqiQ-u6EqVB",
    "outputId": "855fac2d-576f-48b1-a8a4-9036f41d14c2"
   },
   "outputs": [
    {
     "name": "stdout",
     "output_type": "stream",
     "text": [
      "[[   0 1210]\n",
      " [   1 1210]\n",
      " [   2 1210]\n",
      " [   3 1210]]\n"
     ]
    }
   ],
   "source": [
    "unique, counts = np.unique(y, return_counts=True)\n",
    "print(np.asarray((unique, counts)).T)\n"
   ]
  },
  {
   "cell_type": "markdown",
   "metadata": {
    "id": "H-AaSi9HQyuZ"
   },
   "source": [
    "# **5. Model Building**"
   ]
  },
  {
   "cell_type": "markdown",
   "metadata": {
    "id": "PW0mECfSIiDN"
   },
   "source": [
    "## **5.1 Regression models**"
   ]
  },
  {
   "cell_type": "code",
   "execution_count": null,
   "metadata": {
    "colab": {
     "base_uri": "https://localhost:8080/"
    },
    "id": "SjPb9mxKFQz2",
    "outputId": "efe9f57c-26ea-490a-c2a9-4602c21e449e"
   },
   "outputs": [
    {
     "name": "stdout",
     "output_type": "stream",
     "text": [
      "Training Accuracy:  0.8840220385674931\n",
      "Testing Accuracy:  0.8983471074380165\n",
      "[[269  28  10   3]\n",
      " [ 41 228  12  11]\n",
      " [  0   7 297   0]\n",
      " [  0  11   0 293]]\n",
      "              precision    recall  f1-score   support\n",
      "\n",
      "           0       0.87      0.87      0.87       310\n",
      "           1       0.83      0.78      0.81       292\n",
      "           2       0.93      0.98      0.95       304\n",
      "           3       0.95      0.96      0.96       304\n",
      "\n",
      "    accuracy                           0.90      1210\n",
      "   macro avg       0.90      0.90      0.90      1210\n",
      "weighted avg       0.90      0.90      0.90      1210\n",
      "\n"
     ]
    }
   ],
   "source": [
    "clf = LogisticRegression(random_state = 0)\n",
    "clf.fit(x_train, y_train)\n",
    "y_pred = clf.predict(x_test)\n",
    "f1_LR=f1_score(y_test,y_pred, average='macro')\n",
    "print(\"Training Accuracy: \",clf.score(x_train, y_train))\n",
    "print(\"Testing Accuracy: \", clf.score(x_test, y_test))\n",
    "cm = confusion_matrix(y_test, y_pred)\n",
    "print(cm)\n",
    "print(classification_report(y_test,y_pred)) "
   ]
  },
  {
   "cell_type": "markdown",
   "metadata": {
    "id": "zBe7xNbaPxHi"
   },
   "source": [
    "### **5.1.1 Multicollinearity?**"
   ]
  },
  {
   "cell_type": "code",
   "execution_count": null,
   "metadata": {
    "id": "mceujXf0JJ-2"
   },
   "outputs": [],
   "source": [
    "def calc_vif(X):\n",
    "\n",
    "    # Calculating VIF\n",
    "    vif = pd.DataFrame()\n",
    "    vif[\"variables\"] = X.columns\n",
    "    vif[\"VIF\"] = [variance_inflation_factor(X.values, i) for i in range(X.shape[1])]\n",
    "\n",
    "    return(vif)"
   ]
  },
  {
   "cell_type": "code",
   "execution_count": null,
   "metadata": {
    "colab": {
     "base_uri": "https://localhost:8080/",
     "height": 238
    },
    "id": "gicEphSAQ70A",
    "outputId": "81c943cb-fda3-4347-d0a3-f85a94f0d074"
   },
   "outputs": [
    {
     "data": {
      "text/html": [
       "<div>\n",
       "<style scoped>\n",
       "    .dataframe tbody tr th:only-of-type {\n",
       "        vertical-align: middle;\n",
       "    }\n",
       "\n",
       "    .dataframe tbody tr th {\n",
       "        vertical-align: top;\n",
       "    }\n",
       "\n",
       "    .dataframe thead th {\n",
       "        text-align: right;\n",
       "    }\n",
       "</style>\n",
       "<table border=\"1\" class=\"dataframe\">\n",
       "  <thead>\n",
       "    <tr style=\"text-align: right;\">\n",
       "      <th></th>\n",
       "      <th>variables</th>\n",
       "      <th>VIF</th>\n",
       "    </tr>\n",
       "  </thead>\n",
       "  <tbody>\n",
       "    <tr>\n",
       "      <th>0</th>\n",
       "      <td>buying</td>\n",
       "      <td>2.606473</td>\n",
       "    </tr>\n",
       "    <tr>\n",
       "      <th>1</th>\n",
       "      <td>maint</td>\n",
       "      <td>2.606473</td>\n",
       "    </tr>\n",
       "    <tr>\n",
       "      <th>2</th>\n",
       "      <td>doors</td>\n",
       "      <td>6.735930</td>\n",
       "    </tr>\n",
       "    <tr>\n",
       "      <th>3</th>\n",
       "      <td>persons</td>\n",
       "      <td>6.442677</td>\n",
       "    </tr>\n",
       "    <tr>\n",
       "      <th>4</th>\n",
       "      <td>lug_boot</td>\n",
       "      <td>2.356007</td>\n",
       "    </tr>\n",
       "    <tr>\n",
       "      <th>5</th>\n",
       "      <td>safety</td>\n",
       "      <td>2.356007</td>\n",
       "    </tr>\n",
       "  </tbody>\n",
       "</table>\n",
       "</div>"
      ],
      "text/plain": [
       "  variables       VIF\n",
       "0    buying  2.606473\n",
       "1     maint  2.606473\n",
       "2     doors  6.735930\n",
       "3   persons  6.442677\n",
       "4  lug_boot  2.356007\n",
       "5    safety  2.356007"
      ]
     },
     "execution_count": 24,
     "metadata": {},
     "output_type": "execute_result"
    }
   ],
   "source": [
    "X = raw_data.iloc[:,:-1]\n",
    "calc_vif(X)"
   ]
  },
  {
   "cell_type": "code",
   "execution_count": null,
   "metadata": {
    "colab": {
     "base_uri": "https://localhost:8080/",
     "height": 206
    },
    "id": "r8c77DjFKWqX",
    "outputId": "bdc8b6b3-1f96-406a-fe09-0ab03a722371"
   },
   "outputs": [
    {
     "data": {
      "text/html": [
       "<div>\n",
       "<style scoped>\n",
       "    .dataframe tbody tr th:only-of-type {\n",
       "        vertical-align: middle;\n",
       "    }\n",
       "\n",
       "    .dataframe tbody tr th {\n",
       "        vertical-align: top;\n",
       "    }\n",
       "\n",
       "    .dataframe thead th {\n",
       "        text-align: right;\n",
       "    }\n",
       "</style>\n",
       "<table border=\"1\" class=\"dataframe\">\n",
       "  <thead>\n",
       "    <tr style=\"text-align: right;\">\n",
       "      <th></th>\n",
       "      <th>variables</th>\n",
       "      <th>VIF</th>\n",
       "    </tr>\n",
       "  </thead>\n",
       "  <tbody>\n",
       "    <tr>\n",
       "      <th>0</th>\n",
       "      <td>buying</td>\n",
       "      <td>2.510345</td>\n",
       "    </tr>\n",
       "    <tr>\n",
       "      <th>1</th>\n",
       "      <td>maint</td>\n",
       "      <td>2.510345</td>\n",
       "    </tr>\n",
       "    <tr>\n",
       "      <th>2</th>\n",
       "      <td>doors</td>\n",
       "      <td>4.717241</td>\n",
       "    </tr>\n",
       "    <tr>\n",
       "      <th>3</th>\n",
       "      <td>lug_boot</td>\n",
       "      <td>2.284483</td>\n",
       "    </tr>\n",
       "    <tr>\n",
       "      <th>4</th>\n",
       "      <td>safety</td>\n",
       "      <td>2.284483</td>\n",
       "    </tr>\n",
       "  </tbody>\n",
       "</table>\n",
       "</div>"
      ],
      "text/plain": [
       "  variables       VIF\n",
       "0    buying  2.510345\n",
       "1     maint  2.510345\n",
       "2     doors  4.717241\n",
       "3  lug_boot  2.284483\n",
       "4    safety  2.284483"
      ]
     },
     "execution_count": 25,
     "metadata": {},
     "output_type": "execute_result"
    }
   ],
   "source": [
    "X.drop('persons', inplace=True, axis=1)\n",
    "calc_vif(X)"
   ]
  },
  {
   "cell_type": "code",
   "execution_count": null,
   "metadata": {
    "id": "HPBgiluXLglC"
   },
   "outputs": [],
   "source": [
    "raw_data_VIF = raw_data.drop('persons', inplace=False, axis=1)"
   ]
  },
  {
   "cell_type": "code",
   "execution_count": null,
   "metadata": {
    "id": "M2wnENBXKwBH"
   },
   "outputs": [],
   "source": [
    "x_vif = raw_data_VIF.iloc[:,:len(raw_data_VIF.columns)-1]\n",
    "y_vif = raw_data_VIF.Target\n",
    "x_vif, y_vif = ros.fit_resample(x_vif, y_vif)\n",
    "x_train_vif, x_test_vif, y_train_vif, y_test_vif = train_test_split(x_vif, y_vif, test_size = 0.25, random_state = 100)"
   ]
  },
  {
   "cell_type": "code",
   "execution_count": null,
   "metadata": {
    "colab": {
     "base_uri": "https://localhost:8080/"
    },
    "id": "FzinopFVO2Ol",
    "outputId": "fb1497cb-2334-46b9-97ad-05ef9a69ff86"
   },
   "outputs": [
    {
     "data": {
      "text/plain": [
       "(4840, 5)"
      ]
     },
     "execution_count": 28,
     "metadata": {},
     "output_type": "execute_result"
    }
   ],
   "source": [
    "x_vif.shape"
   ]
  },
  {
   "cell_type": "code",
   "execution_count": null,
   "metadata": {
    "colab": {
     "base_uri": "https://localhost:8080/"
    },
    "id": "-HtCIIhuKc-X",
    "outputId": "47337b5c-f483-43cb-a51a-b34770330a70"
   },
   "outputs": [
    {
     "name": "stdout",
     "output_type": "stream",
     "text": [
      "Training Accuracy:  0.8286501377410468\n",
      "Testing Accuracy:  0.828099173553719\n",
      "[[215  61  22  12]\n",
      " [ 68 200  13  11]\n",
      " [  0   0 298   6]\n",
      " [  0  11   4 289]]\n",
      "              precision    recall  f1-score   support\n",
      "\n",
      "           0       0.76      0.69      0.73       310\n",
      "           1       0.74      0.68      0.71       292\n",
      "           2       0.88      0.98      0.93       304\n",
      "           3       0.91      0.95      0.93       304\n",
      "\n",
      "    accuracy                           0.83      1210\n",
      "   macro avg       0.82      0.83      0.82      1210\n",
      "weighted avg       0.82      0.83      0.82      1210\n",
      "\n"
     ]
    }
   ],
   "source": [
    "clf = LogisticRegression(random_state = 0)\n",
    "clf.fit(x_train_vif, y_train_vif)\n",
    "y_pred = clf.predict(x_test_vif)\n",
    "f1_LR=f1_score(y_test_vif,y_pred, average='macro')\n",
    "print(\"Training Accuracy: \",clf.score(x_train_vif, y_train_vif))\n",
    "print(\"Testing Accuracy: \", clf.score(x_test_vif, y_test_vif))\n",
    "cm = confusion_matrix(y_test_vif, y_pred)\n",
    "print(cm)\n",
    "print(classification_report(y_test_vif,y_pred)) "
   ]
  },
  {
   "cell_type": "markdown",
   "metadata": {
    "id": "C6P982nvQAYn"
   },
   "source": [
    "### **5.1.2 Conclusion on Regression Model**"
   ]
  },
  {
   "cell_type": "markdown",
   "metadata": {
    "id": "nJSouypFJiv2"
   },
   "source": [
    "We observed high collinearity with **persons** and **doors** attribute. So we tried second model after removing \"persons\" feature from our data set. But after removing this feature model **bias** got increased but at the same time **vairance** got better as we can see both test and train accuracy are almost same. This shows that our model is stable in its prediction with the new data."
   ]
  },
  {
   "cell_type": "markdown",
   "metadata": {
    "id": "6Bij9ErkWxnu"
   },
   "source": [
    "## **5.2 K-Nearest Neighbors**"
   ]
  },
  {
   "cell_type": "markdown",
   "metadata": {
    "id": "gHo4EssmXAbX"
   },
   "source": [
    "### **5.2.1 KNN Hyperparamenter tunning**"
   ]
  },
  {
   "cell_type": "code",
   "execution_count": null,
   "metadata": {
    "colab": {
     "base_uri": "https://localhost:8080/"
    },
    "id": "pJ-F-2aBUHne",
    "outputId": "8696359f-e1e2-44be-c703-1efc6a917a37"
   },
   "outputs": [
    {
     "name": "stdout",
     "output_type": "stream",
     "text": [
      "{'leaf_size': 20, 'metric': 'minkowski', 'n_neighbors': 6, 'p': 2, 'weights': 'distance'}\n",
      "Best Score - KNN: 0.9611570247933884\n"
     ]
    }
   ],
   "source": [
    "estimator_KNN = KNeighborsClassifier(algorithm='auto')\n",
    "parameters_KNN = {\n",
    "    'n_neighbors': (1,6, 1),\n",
    "    'leaf_size': (20,40,1),\n",
    "    'p': (1,2),\n",
    "    'weights': ('uniform', 'distance'),\n",
    "    'metric': ('minkowski', 'chebyshev')\n",
    "}\n",
    "\n",
    "grid_search_KNN = GridSearchCV(\n",
    "    estimator=estimator_KNN,\n",
    "    param_grid=parameters_KNN,\n",
    "    scoring = 'accuracy',\n",
    "    n_jobs = -1,\n",
    "    cv = 5\n",
    ")\n",
    "\n",
    "KNN_1=grid_search_KNN.fit(x_train, y_train)\n",
    "y_pred_KNN1 =KNN_1.predict(x_test)\n",
    "\n",
    "#Parameter setting that gave the best results on the hold out data.\n",
    "print(grid_search_KNN.best_params_ ) \n",
    "#Mean cross-validated score of the best_estimator\n",
    "print('Best Score - KNN:', grid_search_KNN.best_score_ )"
   ]
  },
  {
   "cell_type": "markdown",
   "metadata": {
    "id": "Rt4k2wJmXP20"
   },
   "source": [
    "### **5.2.2 KNN final model**\n",
    "Evaluation of the model built using best values for the hyperparameter"
   ]
  },
  {
   "cell_type": "code",
   "execution_count": null,
   "metadata": {
    "colab": {
     "base_uri": "https://localhost:8080/"
    },
    "id": "tmR1SOLXSQt8",
    "outputId": "318afe61-bee2-4177-fc4b-2aea225b9d3b"
   },
   "outputs": [
    {
     "name": "stdout",
     "output_type": "stream",
     "text": [
      "Training Accuracy:  1.0\n",
      "Testing Accuracy:  0.9727272727272728\n",
      "[[284  18   8   0]\n",
      " [  0 285   5   2]\n",
      " [  0   0 304   0]\n",
      " [  0   0   0 304]]\n",
      "              precision    recall  f1-score   support\n",
      "\n",
      "           0       1.00      0.92      0.96       310\n",
      "           1       0.94      0.98      0.96       292\n",
      "           2       0.96      1.00      0.98       304\n",
      "           3       0.99      1.00      1.00       304\n",
      "\n",
      "    accuracy                           0.97      1210\n",
      "   macro avg       0.97      0.97      0.97      1210\n",
      "weighted avg       0.97      0.97      0.97      1210\n",
      "\n"
     ]
    }
   ],
   "source": [
    "\n",
    "clf = KNeighborsClassifier(n_neighbors = 6, metric = 'minkowski', p = 2,weights= 'distance', leaf_size= 20)\n",
    "clf.fit(x_train, y_train)\n",
    "y_pred = clf.predict(x_test)\n",
    "f1_KNN=f1_score(y_test,y_pred, average='macro')\n",
    "print(\"Training Accuracy: \",clf.score(x_train, y_train))\n",
    "print(\"Testing Accuracy: \", clf.score(x_test, y_test))\n",
    "cm = confusion_matrix(y_test, y_pred)\n",
    "print(cm)\n",
    "print(classification_report(y_test,y_pred))"
   ]
  },
  {
   "cell_type": "markdown",
   "metadata": {
    "id": "j2OqcUnEYLqS"
   },
   "source": [
    "## **5.3 Decision tree classifier**"
   ]
  },
  {
   "cell_type": "markdown",
   "metadata": {
    "id": "zR1dWFfObTnO"
   },
   "source": [
    "### **5.3.1 Hyperparameter tunning**"
   ]
  },
  {
   "cell_type": "code",
   "execution_count": null,
   "metadata": {
    "colab": {
     "base_uri": "https://localhost:8080/"
    },
    "id": "gQmjhze9Yjle",
    "outputId": "b17b13d5-b7ca-46d7-b525-a6889e46a9c9"
   },
   "outputs": [
    {
     "name": "stdout",
     "output_type": "stream",
     "text": [
      "Fitting 5 folds for each of 1920 candidates, totalling 9600 fits\n"
     ]
    },
    {
     "name": "stderr",
     "output_type": "stream",
     "text": [
      "[Parallel(n_jobs=1)]: Using backend SequentialBackend with 1 concurrent workers.\n",
      "[Parallel(n_jobs=1)]: Done 9600 out of 9600 | elapsed:   24.8s finished\n"
     ]
    },
    {
     "data": {
      "text/plain": [
       "GridSearchCV(cv=5, error_score=nan,\n",
       "             estimator=DecisionTreeClassifier(ccp_alpha=0.0, class_weight=None,\n",
       "                                              criterion='gini', max_depth=None,\n",
       "                                              max_features=None,\n",
       "                                              max_leaf_nodes=None,\n",
       "                                              min_impurity_decrease=0.0,\n",
       "                                              min_impurity_split=None,\n",
       "                                              min_samples_leaf=1,\n",
       "                                              min_samples_split=2,\n",
       "                                              min_weight_fraction_leaf=0.0,\n",
       "                                              presort='deprecated',\n",
       "                                              random_state=42,\n",
       "                                              splitter='best'),\n",
       "             iid='depr...\n",
       "             param_grid={'criterion': ['gini', 'entropy'],\n",
       "                         'max_depth': array([ 3,  4,  5,  6,  7,  8,  9, 10, 11, 12, 13, 14]),\n",
       "                         'min_samples_split': array([10, 11, 12, 13, 14, 15, 16, 17, 18, 19, 20, 21, 22, 23, 24, 25, 26,\n",
       "       27, 28, 29, 30, 31, 32, 33, 34, 35, 36, 37, 38, 39, 40, 41, 42, 43,\n",
       "       44, 45, 46, 47, 48, 49]),\n",
       "                         'splitter': ['best', 'random']},\n",
       "             pre_dispatch='2*n_jobs', refit=True, return_train_score=False,\n",
       "             scoring=None, verbose=1)"
      ]
     },
     "execution_count": 32,
     "metadata": {},
     "output_type": "execute_result"
    }
   ],
   "source": [
    "params = { 'criterion':['gini','entropy'],'max_depth': np.arange(3, 15), 'splitter':['best', 'random'], 'min_samples_split':np.arange(10, 50)}\n",
    "grid_search_cv = GridSearchCV(DecisionTreeClassifier(random_state=42), params, verbose=1, cv=5)\n",
    "grid_search_cv.fit(x_train, y_train)"
   ]
  },
  {
   "cell_type": "code",
   "execution_count": null,
   "metadata": {
    "colab": {
     "base_uri": "https://localhost:8080/"
    },
    "id": "j1pD0uqLZ9IF",
    "outputId": "1b157911-79ce-4c15-af13-47f40a21860a"
   },
   "outputs": [
    {
     "data": {
      "text/plain": [
       "DecisionTreeClassifier(ccp_alpha=0.0, class_weight=None, criterion='gini',\n",
       "                       max_depth=12, max_features=None, max_leaf_nodes=None,\n",
       "                       min_impurity_decrease=0.0, min_impurity_split=None,\n",
       "                       min_samples_leaf=1, min_samples_split=10,\n",
       "                       min_weight_fraction_leaf=0.0, presort='deprecated',\n",
       "                       random_state=42, splitter='best')"
      ]
     },
     "execution_count": 33,
     "metadata": {},
     "output_type": "execute_result"
    }
   ],
   "source": [
    "#from sklearn.tree import export_graphviz\n",
    "grid_search_cv.best_estimator_"
   ]
  },
  {
   "cell_type": "markdown",
   "metadata": {
    "id": "zHWoL2tjbdi4"
   },
   "source": [
    "### **5.3.2 Final Decision tree model**"
   ]
  },
  {
   "cell_type": "code",
   "execution_count": null,
   "metadata": {
    "colab": {
     "base_uri": "https://localhost:8080/"
    },
    "id": "n0UWM6ytT-Bs",
    "outputId": "e76a3613-4f3b-4272-ed35-2060ef3126bd"
   },
   "outputs": [
    {
     "name": "stdout",
     "output_type": "stream",
     "text": [
      "Training Accuracy:  0.9975206611570248\n",
      "Testing Accuracy:  0.9933884297520661\n",
      "[[303   7   0   0]\n",
      " [  1 291   0   0]\n",
      " [  0   0 304   0]\n",
      " [  0   0   0 304]]\n",
      "              precision    recall  f1-score   support\n",
      "\n",
      "           0       1.00      0.98      0.99       310\n",
      "           1       0.98      1.00      0.99       292\n",
      "           2       1.00      1.00      1.00       304\n",
      "           3       1.00      1.00      1.00       304\n",
      "\n",
      "    accuracy                           0.99      1210\n",
      "   macro avg       0.99      0.99      0.99      1210\n",
      "weighted avg       0.99      0.99      0.99      1210\n",
      "\n"
     ]
    }
   ],
   "source": [
    "clf = grid_search_cv.best_estimator_\n",
    "clf.fit(x_train, y_train)\n",
    "y_pred = clf.predict(x_test)\n",
    "f1_DT=f1_score(y_test,y_pred, average='macro')\n",
    "print(\"Training Accuracy: \",clf.score(x_train, y_train))\n",
    "print(\"Testing Accuracy: \", clf.score(x_test, y_test))\n",
    "cm = confusion_matrix(y_test, y_pred)\n",
    "print(cm)\n",
    "print(classification_report(y_test,y_pred))"
   ]
  },
  {
   "cell_type": "markdown",
   "metadata": {
    "id": "Tm6xfph6Uk40"
   },
   "source": [
    "## **5.4 Random Forest model**"
   ]
  },
  {
   "cell_type": "markdown",
   "metadata": {
    "id": "RZoIAlIAU2TM"
   },
   "source": [
    "### **5.4.1 Hyper paramenter tunning**"
   ]
  },
  {
   "cell_type": "code",
   "execution_count": null,
   "metadata": {
    "colab": {
     "base_uri": "https://localhost:8080/"
    },
    "id": "J76xSrh3O69h",
    "outputId": "bf7ab5e0-4c0e-4a6b-be22-57806e4a00f0"
   },
   "outputs": [
    {
     "name": "stdout",
     "output_type": "stream",
     "text": [
      "{'criterion': 'entropy', 'max_features': 'sqrt', 'min_samples_leaf': 10, 'min_samples_split': 10, 'n_estimators': 150}\n"
     ]
    }
   ],
   "source": [
    "param_grid = { \n",
    "    'n_estimators': [50, 100 ,150, 200 ],\n",
    "    'criterion':['gini','entropy'],\n",
    "    'min_samples_split':[10,30,80,100],\n",
    "    'min_samples_leaf':[10,25,50],\n",
    "    'max_features': ['auto', 'sqrt', 'log2']\n",
    "}\n",
    "clf = RandomForestClassifier()\n",
    "CV_rfc = GridSearchCV(estimator=clf, param_grid=param_grid, cv= 5,n_jobs=-1)\n",
    "CV_rfc.fit(x_train, y_train)\n",
    "print(CV_rfc.best_params_)"
   ]
  },
  {
   "cell_type": "code",
   "execution_count": null,
   "metadata": {
    "colab": {
     "base_uri": "https://localhost:8080/"
    },
    "id": "eBVJZGEbUVMb",
    "outputId": "213decb2-7434-4b08-d142-c054601ff4a2"
   },
   "outputs": [
    {
     "name": "stdout",
     "output_type": "stream",
     "text": [
      "Training Accuracy:  0.9809917355371901\n",
      "Testing Accuracy:  0.9752066115702479\n",
      "[[297  12   1   0]\n",
      " [  0 275  15   2]\n",
      " [  0   0 304   0]\n",
      " [  0   0   0 304]]\n",
      "              precision    recall  f1-score   support\n",
      "\n",
      "           0       1.00      0.96      0.98       310\n",
      "           1       0.96      0.94      0.95       292\n",
      "           2       0.95      1.00      0.97       304\n",
      "           3       0.99      1.00      1.00       304\n",
      "\n",
      "    accuracy                           0.98      1210\n",
      "   macro avg       0.98      0.97      0.97      1210\n",
      "weighted avg       0.98      0.98      0.98      1210\n",
      "\n"
     ]
    }
   ],
   "source": [
    "#Trying Random forest classifier\n",
    "clf = CV_rfc.best_estimator_\n",
    "clf.fit(x_train, y_train)\n",
    "y_pred = clf.predict(x_test)\n",
    "f1_RF=f1_score(y_test,y_pred, average='macro')\n",
    "print(\"Training Accuracy: \",clf.score(x_train, y_train))\n",
    "print(\"Testing Accuracy: \", clf.score(x_test, y_test))\n",
    "cm = confusion_matrix(y_test, y_pred)\n",
    "print(cm)\n",
    "print(classification_report(y_test,y_pred))"
   ]
  },
  {
   "cell_type": "markdown",
   "metadata": {
    "id": "-JOqLuauWg2B"
   },
   "source": [
    "## **5.5 Naive Bayes**"
   ]
  },
  {
   "cell_type": "markdown",
   "metadata": {
    "id": "RTv5UpJ5WpQv"
   },
   "source": [
    "Naive Bayes classifier for categorical features.  \n",
    "\n",
    "\n",
    "The categorical Naive Bayes classifier is suitable for classification with discrete features that are categorically distributed. The categories of each feature are drawn from a categorical distribution."
   ]
  },
  {
   "cell_type": "code",
   "execution_count": null,
   "metadata": {
    "colab": {
     "base_uri": "https://localhost:8080/"
    },
    "id": "S3TYkmHjWvmZ",
    "outputId": "ca55bfe3-751b-420e-8188-c412406c4921"
   },
   "outputs": [
    {
     "name": "stdout",
     "output_type": "stream",
     "text": [
      "Training Accuracy:  0.8644628099173554\n",
      "Testing Accuracy:  0.8826446280991735\n",
      "[[258  49   3   0]\n",
      " [  0 232  43  17]\n",
      " [  0   0 274  30]\n",
      " [  0   0   0 304]]\n",
      "              precision    recall  f1-score   support\n",
      "\n",
      "           0       1.00      0.83      0.91       310\n",
      "           1       0.83      0.79      0.81       292\n",
      "           2       0.86      0.90      0.88       304\n",
      "           3       0.87      1.00      0.93       304\n",
      "\n",
      "    accuracy                           0.88      1210\n",
      "   macro avg       0.89      0.88      0.88      1210\n",
      "weighted avg       0.89      0.88      0.88      1210\n",
      "\n"
     ]
    }
   ],
   "source": [
    "clf = CategoricalNB()\n",
    "clf.fit(x_train, y_train)\n",
    "y_pred = clf.predict(x_test)\n",
    "f1_NB=f1_score(y_test,y_pred, average='macro')\n",
    "print(\"Training Accuracy: \",clf.score(x_train, y_train))\n",
    "print(\"Testing Accuracy: \", clf.score(x_test, y_test))\n",
    "cm = confusion_matrix(y_test, y_pred)\n",
    "print(cm)\n",
    "print(classification_report(y_test,y_pred))"
   ]
  },
  {
   "cell_type": "markdown",
   "metadata": {
    "id": "Gtb_u9etDyC6"
   },
   "source": [
    "###**6. Performance Evaluation**"
   ]
  },
  {
   "cell_type": "code",
   "execution_count": null,
   "metadata": {
    "colab": {
     "base_uri": "https://localhost:8080/",
     "height": 500
    },
    "id": "QoJNYEdzV9fR",
    "outputId": "f88330f4-1fa1-4e88-b6a0-3cb8bfc386d6"
   },
   "outputs": [
    {
     "data": {
      "text/plain": [
       "<matplotlib.axes._subplots.AxesSubplot at 0x7fd3064b6f10>"
      ]
     },
     "execution_count": 38,
     "metadata": {},
     "output_type": "execute_result"
    },
    {
     "data": {
      "image/png": "[encoded data removed]",
      "text/plain": [
       "<Figure size 864x576 with 1 Axes>"
      ]
     },
     "metadata": {
      "needs_background": "light"
     },
     "output_type": "display_data"
    }
   ],
   "source": [
    "models=['Logistic Regression','KNN','Decision Tree Classifier','Random Forest Classifier','Naive Bayes']\n",
    "sb.barplot(x=models, y=[f1_LR,f1_KNN, f1_DT,f1_RF,f1_NB], log=True, ec=\"k\")"
   ]
  }
 ],
 "metadata": {
  "accelerator": "GPU",
  "colab": {
   "collapsed_sections": [],
   "name": "Group_037_Car_Evaluation.ipynb",
   "provenance": [],
   "toc_visible": true
  },
  "kernelspec": {
   "display_name": "Python 3",
   "language": "python",
   "name": "python3"
  },
  "language_info": {
   "codemirror_mode": {
    "name": "ipython",
    "version": 3
   },
   "file_extension": ".py",
   "mimetype": "text/x-python",
   "name": "python",
   "nbconvert_exporter": "python",
   "pygments_lexer": "ipython3",
   "version": "3.8.5"
  }
 },
 "nbformat": 4,
 "nbformat_minor": 1
}
